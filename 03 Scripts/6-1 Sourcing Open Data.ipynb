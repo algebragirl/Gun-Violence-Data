{
 "cells": [
  {
   "cell_type": "markdown",
   "id": "9e8f54a9-04d1-4ccf-8ff9-117b58142de1",
   "metadata": {},
   "source": [
    "# Task 6.1 Sourcing Open Data"
   ]
  },
  {
   "cell_type": "markdown",
   "id": "cbcd7e13-c484-4a18-a0ee-4bc1a059b02c",
   "metadata": {},
   "source": [
    "This script contains the following points:\n",
    "1. Importing data\n",
    "2. Find missing values\n",
    "   -Separate data into categorical and non-categorical variables\n",
    "   -Find missing values in separated dataframes: num_vars & cat_vars (put in fraction form to easily change to %)\n",
    "3. Finding duplicates\n",
    "4. Finding basic statistics of columns\n",
    "5. Exporting data"
   ]
  },
  {
   "cell_type": "code",
   "execution_count": 8,
   "id": "c21f4e43-6d20-4241-bbc1-af976582db66",
   "metadata": {},
   "outputs": [],
   "source": [
    "#import libraries\n",
    "import pandas as pd\n",
    "import numpy as np\n",
    "import os"
   ]
  },
  {
   "cell_type": "markdown",
   "id": "d9d9cace-eb17-471c-bea3-994add2a21cc",
   "metadata": {},
   "source": [
    "## 1. Importing data"
   ]
  },
  {
   "cell_type": "code",
   "execution_count": 10,
   "id": "38842fbd-59a7-4fff-ab12-6fbf053957d8",
   "metadata": {},
   "outputs": [],
   "source": [
    "path =r'C:\\Users\\Barb\\19-09-2024 Gun Violence Data'"
   ]
  },
  {
   "cell_type": "code",
   "execution_count": 11,
   "id": "c330fd26-bcbf-4813-8467-c9e25a1ffb1f",
   "metadata": {},
   "outputs": [],
   "source": [
    "df_gun=pd.read_csv(os.path.join(path, '02 Data','Original','gun-violence-data_01-2013_03-2018.csv'), index_col = False)"
   ]
  },
  {
   "cell_type": "markdown",
   "id": "cb95bbad-958f-4254-bc56-cd75fbbfdbbd",
   "metadata": {},
   "source": [
    "## 2. Find Missing Values"
   ]
  },
  {
   "cell_type": "markdown",
   "id": "793a6393-4627-4e98-8da4-d3be58dcd9b2",
   "metadata": {},
   "source": [
    "### 2a. Separate data into categorical and non-categorical variables"
   ]
  },
  {
   "cell_type": "code",
   "execution_count": 14,
   "id": "74fa337d-1cb3-4280-b5cc-512f41fd87e7",
   "metadata": {},
   "outputs": [],
   "source": [
    "num_vars = df_gun.columns[df_gun.dtypes != 'object']"
   ]
  },
  {
   "cell_type": "code",
   "execution_count": 15,
   "id": "96fe2a40-3f90-4eaa-a941-f2d287fc6f68",
   "metadata": {},
   "outputs": [],
   "source": [
    "cat_vars = df_gun.columns[df_gun.dtypes == 'object']"
   ]
  },
  {
   "cell_type": "code",
   "execution_count": 16,
   "id": "41dc5c31-a4e5-400f-a463-4176305ffa2d",
   "metadata": {},
   "outputs": [
    {
     "name": "stdout",
     "output_type": "stream",
     "text": [
      "Index(['incident_id', 'n_killed', 'n_injured', 'incident_url_fields_missing',\n",
      "       'congressional_district', 'latitude', 'longitude', 'n_guns_involved',\n",
      "       'state_house_district', 'state_senate_district'],\n",
      "      dtype='object')\n",
      "Index(['date', 'state', 'city_or_county', 'address', 'incident_url',\n",
      "       'source_url', 'gun_stolen', 'gun_type', 'incident_characteristics',\n",
      "       'location_description', 'notes', 'participant_age',\n",
      "       'participant_age_group', 'participant_gender', 'participant_name',\n",
      "       'participant_relationship', 'participant_status', 'participant_type',\n",
      "       'sources'],\n",
      "      dtype='object')\n"
     ]
    }
   ],
   "source": [
    "print(num_vars)\n",
    "print(cat_vars)"
   ]
  },
  {
   "cell_type": "markdown",
   "id": "4b1e9bb8-6ddf-4a29-a0e6-1f1bd7bc976e",
   "metadata": {},
   "source": [
    "### 2b. Find missing values in separated dataframes: num_vars and cat_vars (put in fraction form to easily change to %)"
   ]
  },
  {
   "cell_type": "code",
   "execution_count": 18,
   "id": "d40be940-3afa-4066-9969-ea7663a68d55",
   "metadata": {},
   "outputs": [
    {
     "data": {
      "text/plain": [
       "n_guns_involved                0.414938\n",
       "state_house_district           0.161768\n",
       "state_senate_district          0.134911\n",
       "congressional_district         0.049834\n",
       "latitude                       0.033057\n",
       "longitude                      0.033057\n",
       "incident_id                    0.000000\n",
       "n_killed                       0.000000\n",
       "n_injured                      0.000000\n",
       "incident_url_fields_missing    0.000000\n",
       "dtype: float64"
      ]
     },
     "execution_count": 18,
     "metadata": {},
     "output_type": "execute_result"
    }
   ],
   "source": [
    "df_gun[num_vars].isnull().sum().sort_values(ascending=False)/len(df_gun)"
   ]
  },
  {
   "cell_type": "code",
   "execution_count": 19,
   "id": "6f2ee431",
   "metadata": {},
   "outputs": [
    {
     "data": {
      "text/plain": [
       "participant_relationship    0.934186\n",
       "location_description        0.824393\n",
       "participant_name            0.510074\n",
       "gun_stolen                  0.415134\n",
       "gun_type                    0.414938\n",
       "participant_age             0.385093\n",
       "notes                       0.338026\n",
       "participant_age_group       0.175732\n",
       "participant_gender          0.151713\n",
       "participant_status          0.115263\n",
       "participant_type            0.103735\n",
       "address                     0.068830\n",
       "sources                     0.002541\n",
       "source_url                  0.001953\n",
       "incident_characteristics    0.001360\n",
       "state                       0.000000\n",
       "incident_url                0.000000\n",
       "city_or_county              0.000000\n",
       "date                        0.000000\n",
       "dtype: float64"
      ]
     },
     "execution_count": 19,
     "metadata": {},
     "output_type": "execute_result"
    }
   ],
   "source": [
    "df_gun[cat_vars].isnull().sum().sort_values(ascending=False)/len(df_gun)"
   ]
  },
  {
   "cell_type": "markdown",
   "id": "0c7ded68-3a15-4195-9ba5-c13cbddd08ec",
   "metadata": {},
   "source": [
    "## 3. Finding Duplicates"
   ]
  },
  {
   "cell_type": "code",
   "execution_count": 21,
   "id": "3043ba7a-a6db-4c66-9d0e-a91ee8417f08",
   "metadata": {},
   "outputs": [],
   "source": [
    "#ID all full duplicates within your dataframe"
   ]
  },
  {
   "cell_type": "code",
   "execution_count": 22,
   "id": "cf311773-fc99-436a-8ab6-60cba9500d95",
   "metadata": {},
   "outputs": [],
   "source": [
    "df_dups = df_gun[df_gun.duplicated()]"
   ]
  },
  {
   "cell_type": "code",
   "execution_count": 23,
   "id": "9e725a20-4fb3-4e63-8c9e-41f31c73d850",
   "metadata": {},
   "outputs": [
    {
     "data": {
      "text/html": [
       "<div>\n",
       "<style scoped>\n",
       "    .dataframe tbody tr th:only-of-type {\n",
       "        vertical-align: middle;\n",
       "    }\n",
       "\n",
       "    .dataframe tbody tr th {\n",
       "        vertical-align: top;\n",
       "    }\n",
       "\n",
       "    .dataframe thead th {\n",
       "        text-align: right;\n",
       "    }\n",
       "</style>\n",
       "<table border=\"1\" class=\"dataframe\">\n",
       "  <thead>\n",
       "    <tr style=\"text-align: right;\">\n",
       "      <th></th>\n",
       "      <th>incident_id</th>\n",
       "      <th>date</th>\n",
       "      <th>state</th>\n",
       "      <th>city_or_county</th>\n",
       "      <th>address</th>\n",
       "      <th>n_killed</th>\n",
       "      <th>n_injured</th>\n",
       "      <th>incident_url</th>\n",
       "      <th>source_url</th>\n",
       "      <th>incident_url_fields_missing</th>\n",
       "      <th>...</th>\n",
       "      <th>participant_age</th>\n",
       "      <th>participant_age_group</th>\n",
       "      <th>participant_gender</th>\n",
       "      <th>participant_name</th>\n",
       "      <th>participant_relationship</th>\n",
       "      <th>participant_status</th>\n",
       "      <th>participant_type</th>\n",
       "      <th>sources</th>\n",
       "      <th>state_house_district</th>\n",
       "      <th>state_senate_district</th>\n",
       "    </tr>\n",
       "  </thead>\n",
       "  <tbody>\n",
       "  </tbody>\n",
       "</table>\n",
       "<p>0 rows × 29 columns</p>\n",
       "</div>"
      ],
      "text/plain": [
       "Empty DataFrame\n",
       "Columns: [incident_id, date, state, city_or_county, address, n_killed, n_injured, incident_url, source_url, incident_url_fields_missing, congressional_district, gun_stolen, gun_type, incident_characteristics, latitude, location_description, longitude, n_guns_involved, notes, participant_age, participant_age_group, participant_gender, participant_name, participant_relationship, participant_status, participant_type, sources, state_house_district, state_senate_district]\n",
       "Index: []\n",
       "\n",
       "[0 rows x 29 columns]"
      ]
     },
     "execution_count": 23,
     "metadata": {},
     "output_type": "execute_result"
    }
   ],
   "source": [
    "df_dups"
   ]
  },
  {
   "cell_type": "code",
   "execution_count": 24,
   "id": "d28f62f0-ee36-4692-b3de-ec10a774039d",
   "metadata": {},
   "outputs": [],
   "source": [
    "##NO Duplicates"
   ]
  },
  {
   "cell_type": "markdown",
   "id": "d65e3b61-061f-42b6-b4bc-e4f7c3d41c3c",
   "metadata": {},
   "source": [
    "## 4. Finding Basic Statistics of columns"
   ]
  },
  {
   "cell_type": "code",
   "execution_count": 26,
   "id": "e4628e22-d37d-40f3-b328-200d00c496b1",
   "metadata": {},
   "outputs": [],
   "source": [
    "df2 = df_gun.describe()"
   ]
  },
  {
   "cell_type": "code",
   "execution_count": 27,
   "id": "f31c73ec-f25d-4a75-8fcf-bc3ea84fa7a5",
   "metadata": {},
   "outputs": [
    {
     "name": "stdout",
     "output_type": "stream",
     "text": [
      "        incident_id       n_killed      n_injured  congressional_district  \\\n",
      "count  2.396770e+05  239677.000000  239677.000000           227733.000000   \n",
      "mean   5.593343e+05       0.252290       0.494007                8.001265   \n",
      "std    2.931287e+05       0.521779       0.729952                8.480835   \n",
      "min    9.211400e+04       0.000000       0.000000                0.000000   \n",
      "25%    3.085450e+05       0.000000       0.000000                2.000000   \n",
      "50%    5.435870e+05       0.000000       0.000000                5.000000   \n",
      "75%    8.172280e+05       0.000000       1.000000               10.000000   \n",
      "max    1.083472e+06      50.000000      53.000000               53.000000   \n",
      "\n",
      "            latitude      longitude  n_guns_involved  state_house_district  \\\n",
      "count  231754.000000  231754.000000    140226.000000         200905.000000   \n",
      "mean       37.546598     -89.338348         1.372442             55.447132   \n",
      "std         5.130763      14.359546         4.678202             42.048117   \n",
      "min        19.111400    -171.429000         1.000000              1.000000   \n",
      "25%        33.903400     -94.158725         1.000000             21.000000   \n",
      "50%        38.570600     -86.249600         1.000000             47.000000   \n",
      "75%        41.437375     -80.048625         1.000000             84.000000   \n",
      "max        71.336800      97.433100       400.000000            901.000000   \n",
      "\n",
      "       state_senate_district  \n",
      "count           207342.00000  \n",
      "mean                20.47711  \n",
      "std                 14.20456  \n",
      "min                  1.00000  \n",
      "25%                  9.00000  \n",
      "50%                 19.00000  \n",
      "75%                 30.00000  \n",
      "max                 94.00000  \n"
     ]
    }
   ],
   "source": [
    "print(df2)"
   ]
  },
  {
   "cell_type": "markdown",
   "id": "00e7afa0-6bf6-404b-8c81-7ce9bd780913",
   "metadata": {},
   "source": [
    "### 4.1. Look at questionable outliers"
   ]
  },
  {
   "cell_type": "code",
   "execution_count": 29,
   "id": "729e2bf6-ad25-42f5-b26d-5f2c07aeb57c",
   "metadata": {},
   "outputs": [
    {
     "name": "stdout",
     "output_type": "stream",
     "text": [
      "                                                                        130448\n",
      "incident_id                                                             577157\n",
      "date                                                                 6/12/2016\n",
      "state                                                                  Florida\n",
      "city_or_county                                                         Orlando\n",
      "address                                                   1912 S Orange Avenue\n",
      "n_killed                                                                    50\n",
      "n_injured                                                                   53\n",
      "incident_url                 http://www.gunviolencearchive.org/incident/577157\n",
      "source_url                   https://www.reuters.com/article/us-orlando-sho...\n",
      "incident_url_fields_missing                                              False\n",
      "congressional_district                                                     5.0\n",
      "gun_stolen                                        0::Not-stolen||1::Not-stolen\n",
      "gun_type                                            0::223 Rem [AR-15]||1::9mm\n",
      "incident_characteristics     Shot - Wounded/Injured||Shot - Dead (murder, a...\n",
      "latitude                                                               28.5195\n",
      "location_description                                                     Pulse\n",
      "longitude                                                             -81.3767\n",
      "n_guns_involved                                                            2.0\n",
      "notes                        Names are coming in sporadically and every eff...\n",
      "participant_age              0::34||1::23||2::20||3::22||4::36||5::22||6::2...\n",
      "participant_age_group        0::Adult 18+||1::Adult 18+||2::Adult 18+||3::A...\n",
      "participant_gender           0::Male||1::Male||2::Male||3::Male||4::Male||5...\n",
      "participant_name             0::Edward Sotomayor Jr||1::Stanley Almodovar I...\n",
      "participant_relationship                                                   NaN\n",
      "participant_status           0::Killed||1::Killed||2::Killed||3::Killed||4:...\n",
      "participant_type             0::Victim||1::Victim||2::Victim||3::Victim||4:...\n",
      "sources                      http://www.cityoforlando.net/police/mass-shoot...\n",
      "state_house_district                                                      47.0\n",
      "state_senate_district                                                     12.0\n"
     ]
    }
   ],
   "source": [
    "print(df_gun.loc[df_gun['n_killed'] == 50.000000].T)"
   ]
  },
  {
   "cell_type": "code",
   "execution_count": 30,
   "id": "2817370b",
   "metadata": {},
   "outputs": [
    {
     "name": "stdout",
     "output_type": "stream",
     "text": [
      "                                                                        170994\n",
      "incident_id                                                             772631\n",
      "date                                                                  2/8/2017\n",
      "state                                                                   Alaska\n",
      "city_or_county                                                          Barrow\n",
      "address                                                           Stevenson St\n",
      "n_killed                                                                     1\n",
      "n_injured                                                                    0\n",
      "incident_url                 http://www.gunviolencearchive.org/incident/772631\n",
      "source_url                   https://www.adn.com/alaska-news/crime-courts/2...\n",
      "incident_url_fields_missing                                              False\n",
      "congressional_district                                                     1.0\n",
      "gun_stolen                                                          0::Unknown\n",
      "gun_type                                                           0::12 gauge\n",
      "incident_characteristics     Shot - Dead (murder, accidental, suicide)||Dom...\n",
      "latitude                                                               71.3368\n",
      "location_description                                                 Utqiagvik\n",
      "longitude                                                             -156.648\n",
      "n_guns_involved                                                            1.0\n",
      "notes                        shot father in chest with 12ga shotgun, slit t...\n",
      "participant_age                                                          1::16\n",
      "participant_age_group                              0::Adult 18+||1::Teen 12-17\n",
      "participant_gender                                            0::Male||1::Male\n",
      "participant_name                     0::Bart Ahsogeak||1::Horace Kurt Simmonds\n",
      "participant_relationship                                             1::Family\n",
      "participant_status                            0::Killed||1::Unharmed, Arrested\n",
      "participant_type                                 0::Victim||1::Subject-Suspect\n",
      "sources                      https://www.adn.com/alaska-news/crime-courts/2...\n",
      "state_house_district                                                      40.0\n",
      "state_senate_district                                                      NaN\n"
     ]
    }
   ],
   "source": [
    "print(df_gun.loc[df_gun['latitude'] == 71.336800].T)"
   ]
  },
  {
   "cell_type": "code",
   "execution_count": 31,
   "id": "7163c06d",
   "metadata": {},
   "outputs": [
    {
     "name": "stdout",
     "output_type": "stream",
     "text": [
      "                                                                        238768  \\\n",
      "incident_id                                                            1081194   \n",
      "date                                                                 3/25/2018   \n",
      "state                                                                   Kansas   \n",
      "city_or_county                                                         Wichita   \n",
      "address                                                                    NaN   \n",
      "n_killed                                                                     0   \n",
      "n_injured                                                                    0   \n",
      "incident_url                 http://www.gunviolencearchive.org/incident/108...   \n",
      "source_url                   http://www.kansas.com/news/local/crime/article...   \n",
      "incident_url_fields_missing                                              False   \n",
      "congressional_district                                                     NaN   \n",
      "gun_stolen                                                          0::Unknown   \n",
      "gun_type                                                             0::38 Spl   \n",
      "incident_characteristics                     Non-Shooting Incident||TSA Action   \n",
      "latitude                                                               37.6499   \n",
      "location_description                                                       NaN   \n",
      "longitude                                                              97.4331   \n",
      "n_guns_involved                                                            1.0   \n",
      "notes                                                                      NaN   \n",
      "participant_age                                                            NaN   \n",
      "participant_age_group                                                      NaN   \n",
      "participant_gender                                                         NaN   \n",
      "participant_name                                                           NaN   \n",
      "participant_relationship                                                   NaN   \n",
      "participant_status                                                         NaN   \n",
      "participant_type                                                           NaN   \n",
      "sources                      http://www.kansas.com/news/local/crime/article...   \n",
      "state_house_district                                                       NaN   \n",
      "state_senate_district                                                      NaN   \n",
      "\n",
      "                                                                        239370  \n",
      "incident_id                                                            1081193  \n",
      "date                                                                 3/29/2018  \n",
      "state                                                                   Kansas  \n",
      "city_or_county                                                         Wichita  \n",
      "address                                                                    NaN  \n",
      "n_killed                                                                     0  \n",
      "n_injured                                                                    0  \n",
      "incident_url                 http://www.gunviolencearchive.org/incident/108...  \n",
      "source_url                   http://www.kansas.com/news/local/crime/article...  \n",
      "incident_url_fields_missing                                              False  \n",
      "congressional_district                                                     NaN  \n",
      "gun_stolen                                                          0::Unknown  \n",
      "gun_type                                                                0::9mm  \n",
      "incident_characteristics                     Non-Shooting Incident||TSA Action  \n",
      "latitude                                                               37.6499  \n",
      "location_description                                                       NaN  \n",
      "longitude                                                              97.4331  \n",
      "n_guns_involved                                                            1.0  \n",
      "notes                                                                      NaN  \n",
      "participant_age                                                            NaN  \n",
      "participant_age_group                                                      NaN  \n",
      "participant_gender                                                         NaN  \n",
      "participant_name                                                           NaN  \n",
      "participant_relationship                                                   NaN  \n",
      "participant_status                                                         NaN  \n",
      "participant_type                                                           NaN  \n",
      "sources                      http://www.kansas.com/news/local/crime/article...  \n",
      "state_house_district                                                       NaN  \n",
      "state_senate_district                                                      NaN  \n"
     ]
    }
   ],
   "source": [
    "print(df_gun.loc[df_gun['longitude'] == 97.433100].T)"
   ]
  },
  {
   "cell_type": "code",
   "execution_count": 32,
   "id": "9576f5e4",
   "metadata": {
    "scrolled": true
   },
   "outputs": [
    {
     "name": "stdout",
     "output_type": "stream",
     "text": [
      "                                                                         69524  \\\n",
      "incident_id                                                             338106   \n",
      "date                                                                 5/11/2015   \n",
      "state                                                               California   \n",
      "city_or_county                                                     Los Angeles   \n",
      "address                                         2379 West Washington Boulevard   \n",
      "n_killed                                                                     0   \n",
      "n_injured                                                                    0   \n",
      "incident_url                 http://www.gunviolencearchive.org/incident/338106   \n",
      "source_url                   http://losangeles.cbslocal.com/2015/05/11/offi...   \n",
      "incident_url_fields_missing                                              False   \n",
      "congressional_district                                                    33.0   \n",
      "gun_stolen                   0::Unknown||1::Unknown||2::Unknown||3::Unknown...   \n",
      "gun_type                     0::Unknown||1::Unknown||2::Unknown||3::Unknown...   \n",
      "incident_characteristics            Non-Shooting Incident||Gun buy back action   \n",
      "latitude                                                               33.9884   \n",
      "location_description                                                       NaN   \n",
      "longitude                                                             -118.452   \n",
      "n_guns_involved                                                          400.0   \n",
      "notes                        Two Locations 2379 West Washington Boulevard, ...   \n",
      "participant_age                                                            NaN   \n",
      "participant_age_group                                                      NaN   \n",
      "participant_gender                                                         NaN   \n",
      "participant_name                                                           NaN   \n",
      "participant_relationship                                                   NaN   \n",
      "participant_status                                                         NaN   \n",
      "participant_type                                                           NaN   \n",
      "sources                      http://www.lapdonline.org/olympic_community_po...   \n",
      "state_house_district                                                      62.0   \n",
      "state_senate_district                                                     26.0   \n",
      "\n",
      "                                                                         85777  \\\n",
      "incident_id                                                             398932   \n",
      "date                                                                 8/20/2015   \n",
      "state                                                                  Florida   \n",
      "city_or_county                                                         Orlando   \n",
      "address                                                                    NaN   \n",
      "n_killed                                                                     0   \n",
      "n_injured                                                                    0   \n",
      "incident_url                 http://www.gunviolencearchive.org/incident/398932   \n",
      "source_url                   http://www.mynews13.com/content/news/cfnews13/...   \n",
      "incident_url_fields_missing                                              False   \n",
      "congressional_district                                                    10.0   \n",
      "gun_stolen                   0::Unknown||1::Unknown||2::Unknown||3::Unknown...   \n",
      "gun_type                     0::Unknown||1::Unknown||2::Unknown||3::Unknown...   \n",
      "incident_characteristics            Non-Shooting Incident||Gun buy back action   \n",
      "latitude                                                               28.5421   \n",
      "location_description                                                       NaN   \n",
      "longitude                                                             -81.3751   \n",
      "n_guns_involved                                                          400.0   \n",
      "notes                                                                      NaN   \n",
      "participant_age                                                            NaN   \n",
      "participant_age_group                                                      NaN   \n",
      "participant_gender                                                         NaN   \n",
      "participant_name                                                           NaN   \n",
      "participant_relationship                                                   NaN   \n",
      "participant_status                                                         NaN   \n",
      "participant_type                                                           NaN   \n",
      "sources                      http://www.mynews13.com/content/news/cfnews13/...   \n",
      "state_house_district                                                      47.0   \n",
      "state_senate_district                                                     13.0   \n",
      "\n",
      "                                                                         95847  \\\n",
      "incident_id                                                             437442   \n",
      "date                                                                10/24/2015   \n",
      "state                                                               California   \n",
      "city_or_county                                                       San Diego   \n",
      "address                                                                    NaN   \n",
      "n_killed                                                                     0   \n",
      "n_injured                                                                    0   \n",
      "incident_url                 http://www.gunviolencearchive.org/incident/437442   \n",
      "source_url                   http://www.nbcsandiego.com/news/local/Nearly-4...   \n",
      "incident_url_fields_missing                                              False   \n",
      "congressional_district                                                    52.0   \n",
      "gun_stolen                   0::Unknown||1::Unknown||2::Unknown||3::Unknown...   \n",
      "gun_type                     0::Unknown||1::Unknown||2::Unknown||3::Unknown...   \n",
      "incident_characteristics            Non-Shooting Incident||Gun buy back action   \n",
      "latitude                                                               32.7185   \n",
      "location_description                                                       NaN   \n",
      "longitude                                                             -117.162   \n",
      "n_guns_involved                                                          400.0   \n",
      "notes                                                                      NaN   \n",
      "participant_age                                                            NaN   \n",
      "participant_age_group                                                      NaN   \n",
      "participant_gender                                                         NaN   \n",
      "participant_name                                                           NaN   \n",
      "participant_relationship                                                   NaN   \n",
      "participant_status                                                         NaN   \n",
      "participant_type                                                           NaN   \n",
      "sources                      http://www.nbcsandiego.com/news/local/Nearly-4...   \n",
      "state_house_district                                                      78.0   \n",
      "state_senate_district                                                     39.0   \n",
      "\n",
      "                                                                         98804  \n",
      "incident_id                                                             449889  \n",
      "date                                                                11/12/2015  \n",
      "state                                                               California  \n",
      "city_or_county                                                          Clovis  \n",
      "address                                                      3679 Etchings Way  \n",
      "n_killed                                                                     0  \n",
      "n_injured                                                                    0  \n",
      "incident_url                 http://www.gunviolencearchive.org/incident/449889  \n",
      "source_url                   http://www.fresnobee.com/news/local/crime/arti...  \n",
      "incident_url_fields_missing                                              False  \n",
      "congressional_district                                                    22.0  \n",
      "gun_stolen                   0::Unknown||1::Unknown||2::Unknown||3::Unknown...  \n",
      "gun_type                     0::Unknown||1::Unknown||2::Unknown||3::Unknown...  \n",
      "incident_characteristics     Non-Shooting Incident||ATF/LE Confiscation/Rai...  \n",
      "latitude                                                               36.8141  \n",
      "location_description                                                       NaN  \n",
      "longitude                                                             -119.649  \n",
      "n_guns_involved                                                          400.0  \n",
      "notes                        State DoJ seized 209 handguns, 88 shotguns, 23...  \n",
      "participant_age                                                          0::59  \n",
      "participant_age_group                                             0::Adult 18+  \n",
      "participant_gender                                                     0::Male  \n",
      "participant_name                                           0::Albert Sheakalee  \n",
      "participant_relationship                                                   NaN  \n",
      "participant_status                                       0::Unharmed, Arrested  \n",
      "participant_type                                            0::Subject-Suspect  \n",
      "sources                      http://www.insidebayarea.com/crime-courts/ci_2...  \n",
      "state_house_district                                                      23.0  \n",
      "state_senate_district                                                      8.0  \n"
     ]
    }
   ],
   "source": [
    "print(df_gun.loc[df_gun['n_guns_involved'] == 400.000000].T)"
   ]
  },
  {
   "cell_type": "code",
   "execution_count": 33,
   "id": "543151f2",
   "metadata": {
    "scrolled": true
   },
   "outputs": [
    {
     "name": "stdout",
     "output_type": "stream",
     "text": [
      "                                                                        213638\n",
      "incident_id                                                             960019\n",
      "date                                                                10/15/2017\n",
      "state                                                            New Hampshire\n",
      "city_or_county                                                        Grantham\n",
      "address                                                                  NH-10\n",
      "n_killed                                                                     0\n",
      "n_injured                                                                    0\n",
      "incident_url                 http://www.gunviolencearchive.org/incident/960019\n",
      "source_url                   http://www.wcvb.com/article/police-search-for-...\n",
      "incident_url_fields_missing                                              False\n",
      "congressional_district                                                     2.0\n",
      "gun_stolen                                                          0::Unknown\n",
      "gun_type                                                    0::223 Rem [AR-15]\n",
      "incident_characteristics     Shots Fired - No Injuries||Assault weapon (AR-...\n",
      "latitude                                                               43.5327\n",
      "location_description               Donas J. and Margaret Reney Memorial Forest\n",
      "longitude                                                             -72.1398\n",
      "n_guns_involved                                                            1.0\n",
      "notes                        Suspect firing shots near hikers on trail, 100...\n",
      "participant_age                                                            NaN\n",
      "participant_age_group                               0::Adult 18+||1::Adult 18+\n",
      "participant_gender                                            0::Male||1::Male\n",
      "participant_name                                                           NaN\n",
      "participant_relationship                                                   NaN\n",
      "participant_status                                    0::Unharmed||1::Unharmed\n",
      "participant_type                        0::Subject-Suspect||1::Subject-Suspect\n",
      "sources                      http://www.wmur.com/article/police-search-for-...\n",
      "state_house_district                                                     901.0\n",
      "state_senate_district                                                      8.0\n"
     ]
    }
   ],
   "source": [
    "print(df_gun.loc[df_gun['state_house_district'] == 901.000000].T)"
   ]
  },
  {
   "cell_type": "code",
   "execution_count": 34,
   "id": "89806956",
   "metadata": {
    "scrolled": true
   },
   "outputs": [
    {
     "name": "stdout",
     "output_type": "stream",
     "text": [
      "                                                                         51187\n",
      "incident_id                                                             269702\n",
      "date                                                                12/24/2014\n",
      "state                                                                 Illinois\n",
      "city_or_county                                                          Warsaw\n",
      "address                                                          245 Underwood\n",
      "n_killed                                                                     2\n",
      "n_injured                                                                    0\n",
      "incident_url                 http://www.gunviolencearchive.org/incident/269702\n",
      "source_url                   http://www.whig.com/story/27713221/warsaw-deat...\n",
      "incident_url_fields_missing                                              False\n",
      "congressional_district                                                    18.0\n",
      "gun_stolen                                                          0::Unknown\n",
      "gun_type                                                            0::Unknown\n",
      "incident_characteristics     Shot - Dead (murder, accidental, suicide)||Sui...\n",
      "latitude                                                               40.3537\n",
      "location_description                                                       NaN\n",
      "longitude                                                             -91.4269\n",
      "n_guns_involved                                                            1.0\n",
      "notes                                        Man shoots, kills woman, himself.\n",
      "participant_age                                                   0::30||1::37\n",
      "participant_age_group                               0::Adult 18+||1::Adult 18+\n",
      "participant_gender                                          0::Female||1::Male\n",
      "participant_name                             0::Cortny Huffman||1::Jerry Woods\n",
      "participant_relationship                                                   NaN\n",
      "participant_status                                        0::Killed||1::Killed\n",
      "participant_type                                 0::Victim||1::Subject-Suspect\n",
      "sources                      http://www.pjstar.com/article/20141227/NEWS/14...\n",
      "state_house_district                                                      47.0\n",
      "state_senate_district                                                     94.0\n"
     ]
    }
   ],
   "source": [
    "print(df_gun.loc[df_gun['state_senate_district'] == 94.000000].T)"
   ]
  },
  {
   "cell_type": "code",
   "execution_count": 35,
   "id": "0efb2610-83c0-4b98-b96c-d53b981a9be2",
   "metadata": {},
   "outputs": [],
   "source": [
    "#Errors -State_house_district = 901  & state_senate_district= 94"
   ]
  },
  {
   "cell_type": "markdown",
   "id": "227aa47e-2da2-445c-8fed-0ef0fb58ae4c",
   "metadata": {},
   "source": [
    "## 5. Export this new dataframe as a csv file"
   ]
  },
  {
   "cell_type": "code",
   "execution_count": 58,
   "id": "2dc44a1b-8b72-41ee-8825-b8bd28c320f4",
   "metadata": {},
   "outputs": [
    {
     "data": {
      "text/plain": [
       "(239677, 29)"
      ]
     },
     "execution_count": 58,
     "metadata": {},
     "output_type": "execute_result"
    }
   ],
   "source": [
    "# Check shape before exporting\n",
    "df_gun.shape"
   ]
  },
  {
   "cell_type": "code",
   "execution_count": 60,
   "id": "4112325f-4626-4e1b-8fdb-0664eaeb0ac6",
   "metadata": {},
   "outputs": [],
   "source": [
    "#Export the updated dataframe as a csv file\n",
    "df_gun.to_csv(os.path.join(path, '02 Data', 'Prepared', 'df_gun6-1.csv'))"
   ]
  },
  {
   "cell_type": "code",
   "execution_count": null,
   "id": "facdd5fc-cce0-4a90-8d43-c0482e331a57",
   "metadata": {},
   "outputs": [],
   "source": []
  }
 ],
 "metadata": {
  "kernelspec": {
   "display_name": "Python 3 (ipykernel)",
   "language": "python",
   "name": "python3"
  },
  "language_info": {
   "codemirror_mode": {
    "name": "ipython",
    "version": 3
   },
   "file_extension": ".py",
   "mimetype": "text/x-python",
   "name": "python",
   "nbconvert_exporter": "python",
   "pygments_lexer": "ipython3",
   "version": "3.12.4"
  }
 },
 "nbformat": 4,
 "nbformat_minor": 5
}
